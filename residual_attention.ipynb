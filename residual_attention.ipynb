{
 "cells": [
  {
   "cell_type": "markdown",
   "metadata": {},
   "source": [
    "Just run all the cell one by one to repeat the results"
   ]
  },
  {
   "cell_type": "markdown",
   "metadata": {
    "colab_type": "text",
    "id": "rF2x3qooyBTI"
   },
   "source": [
    "# Deep Convolutional Generative Adversarial Network"
   ]
  },
  {
   "cell_type": "code",
   "execution_count": 15,
   "metadata": {
    "colab": {
     "base_uri": "https://localhost:8080/",
     "height": 68
    },
    "colab_type": "code",
    "id": "HWGkAtMXDgHE",
    "outputId": "1eca6181-6379-413d-c360-2dce547e6809"
   },
   "outputs": [
    {
     "name": "stdout",
     "output_type": "stream",
     "text": [
      "1 GPUs are available for tensorflow 2.0.0 in current environment.\n",
      "The tensorboard extension is already loaded. To reload it, use:\n",
      "  %reload_ext tensorboard\n"
     ]
    }
   ],
   "source": [
    "import os\n",
    "import sys\n",
    "import datetime\n",
    "pwd = os.getcwd()\n",
    "sys.path.append(pwd)\n",
    "\n",
    "import pickle\n",
    "import numpy as np\n",
    "import matplotlib.pyplot as plt\n",
    "\n",
    "import tensorflow as tf\n",
    "import tensorflow.keras as keras\n",
    "\n",
    "from utils.models import Attention56\n",
    "from tensorflow.keras import optimizers, losses, callbacks\n",
    "print(\"%d GPUs are available for tensorflow %s in current environment.\" % \n",
    "      (len(tf.config.experimental.list_physical_devices('GPU')), tf.__version__))\n",
    "# %load_ext tensorboard"
   ]
  },
  {
   "cell_type": "markdown",
   "metadata": {
    "colab_type": "text",
    "id": "jsEAA1m5DgHG"
   },
   "source": [
    "### Set the Paths of the Outputs"
   ]
  },
  {
   "cell_type": "code",
   "execution_count": 16,
   "metadata": {
    "colab": {
     "base_uri": "https://localhost:8080/",
     "height": 34
    },
    "colab_type": "code",
    "id": "BZC_fHe_DgHJ",
    "outputId": "5f047e68-4422-4546-8ebd-b3910006ae4a"
   },
   "outputs": [
    {
     "data": {
      "text/plain": [
       "'RAN56-CIFAR10-20191214-030916'"
      ]
     },
     "execution_count": 16,
     "metadata": {
      "tags": []
     },
     "output_type": "execute_result"
    }
   ],
   "source": [
    "# config the version of training, structure of model and usage of dataset\n",
    "# i.e. the identifier of a specific model\n",
    "stamp = datetime.datetime.now().strftime(\"%Y%m%d-%H%M%S\")\n",
    "structure = 'RAN56'\n",
    "dataset = 'CIFAR10'\n",
    "config = \"%s-%s-%s\" % (structure, dataset, stamp)\n",
    "config"
   ]
  },
  {
   "cell_type": "code",
   "execution_count": null,
   "metadata": {
    "colab": {},
    "colab_type": "code",
    "id": "TouXUserDgHH"
   },
   "outputs": [],
   "source": [
    "# set and create the path for log file for tesnorboard\n",
    "log_dir = os.path.join(pwd, 'outputs', 'logs')\n",
    "os.makedirs(log_dir, exist_ok = True)\n",
    "# set and create the path for saving the images\n",
    "image_dir = os.path.join(pwd, 'outputs', 'images')\n",
    "os.makedirs(os.path.join(image_dir, config), exist_ok = True)\n",
    "# set and create the path for saving the weights of the model\n",
    "checkpoint_dir = os.path.join(pwd, 'outputs', 'checkpoints')\n",
    "os.makedirs(checkpoint_dir, exist_ok = True)\n",
    "os.makedirs(os.path.join(checkpoint_dir, config), exist_ok = True)"
   ]
  },
  {
   "cell_type": "markdown",
   "metadata": {
    "colab_type": "text",
    "id": "iYn4MdZnKCey"
   },
   "source": [
    "### Load and Prepare the Dataset"
   ]
  },
  {
   "cell_type": "code",
   "execution_count": null,
   "metadata": {
    "colab": {},
    "colab_type": "code",
    "id": "11DxF_d8DgHM"
   },
   "outputs": [],
   "source": [
    "# normalize cifar10 data\n",
    "def preprocess_cifar10(x, y):        \n",
    "    x = 2*tf.cast(x, dtype=tf.float32)/255 - 1\n",
    "    y = tf.squeeze(tf.one_hot(y, depth=10, dtype=tf.int32))\n",
    "    return x, y\n",
    "# normalize cifar100 data\n",
    "def preprocess_cifar100(x, y):        \n",
    "    x = 2*tf.cast(x, dtype=tf.float32)/255 - 1\n",
    "    y = tf.one_hot(y, depth=100, dtype=tf.int32)\n",
    "    return x, y\n",
    "# augment the data if needed\n",
    "def augment(x, y):\n",
    "    x = tf.image.random_flip_up_down(x)\n",
    "    x = tf.image.random_flip_left_right(x)\n",
    "    return x, y"
   ]
  },
  {
   "cell_type": "code",
   "execution_count": 19,
   "metadata": {
    "colab": {
     "base_uri": "https://localhost:8080/",
     "height": 34
    },
    "colab_type": "code",
    "id": "-yKCCQOoJ7cn",
    "outputId": "722f7f81-07c4-4b5a-9292-f35b501f3a93"
   },
   "outputs": [
    {
     "name": "stdout",
     "output_type": "stream",
     "text": [
      "shape of one batch for CIFAR10 images is: (8, 32, 32, 3) and (8, 10)\n"
     ]
    }
   ],
   "source": [
    "if 'CIFAR10' in config:\n",
    "    # load and preprocess cifer 10 data\n",
    "    (cifar10_train_x, cifar10_train_y), (cifar10_val_x, cifar10_val_y) = keras.datasets.cifar10.load_data()\n",
    "    train_db = tf.data.Dataset.from_tensor_slices((cifar10_train_x, cifar10_train_y)).map(preprocess_cifar10).shuffle(100000)\n",
    "    val_db = tf.data.Dataset.from_tensor_slices((cifar10_val_x, cifar10_val_y)).map(preprocess_cifar10)\n",
    "else:\n",
    "    # # load and preprocess cifer 100 data\n",
    "    (cifar100_train_x, cifar100_train_y), (cifar100_val_x, cifar100_val_y) = keras.datasets.cifar100.load_data()\n",
    "    train_db = tf.data.Dataset.from_tensor_slices((cifar100_train_x, cifar100_train_y)).map(preprocess_cifar100).shuffle(100000)\n",
    "    val_db = tf.data.Dataset.from_tensor_slices((cifar100_val_x, cifar100_val_y)).map(preprocess_cifar100)\n",
    "\n",
    "# data augmentation\n",
    "train_db = train_db.map(augment)\n",
    "# get one batch and check the dimension of this batch\n",
    "samples = next(iter(val_db.batch(8)))\n",
    "print(\"shape of one batch for CIFAR10 images is: %s and %s\" % \n",
    "    (str(samples[0].shape), str(samples[1].shape)))"
   ]
  },
  {
   "cell_type": "markdown",
   "metadata": {
    "colab_type": "text",
    "id": "9RfVItiCIRqN"
   },
   "source": [
    "### Load and Define a Residual Attention Network"
   ]
  },
  {
   "cell_type": "markdown",
   "metadata": {
    "colab_type": "text",
    "id": "g1YkzlW0IfmS"
   },
   "source": [
    "#### Set the Hyper-Parameters\n",
    "There are lots of hyper-parameters defined in the models,py"
   ]
  },
  {
   "cell_type": "code",
   "execution_count": null,
   "metadata": {
    "colab": {},
    "colab_type": "code",
    "id": "GftRMSeL2N43"
   },
   "outputs": [],
   "source": [
    "# number of epochs\n",
    "EPOCH = 300\n",
    "BATCH = 128\n",
    "VALID = 1\n",
    "LEARNING_RATE = 1e-3\n",
    "RESTORE = None"
   ]
  },
  {
   "cell_type": "markdown",
   "metadata": {
    "colab_type": "text",
    "id": "SOi6-l6nJHog"
   },
   "source": [
    "#### Set the Callbacks"
   ]
  },
  {
   "cell_type": "code",
   "execution_count": null,
   "metadata": {
    "colab": {},
    "colab_type": "code",
    "id": "P6ezO0T9Agvu"
   },
   "outputs": [],
   "source": [
    "optimizer = optimizers.Adam(learning_rate=LEARNING_RATE)\n",
    "loss = losses.CategoricalCrossentropy(from_logits=True)\n",
    "\n",
    "# object to save the training history\n",
    "history = callbacks.History()\n",
    "# set the early stopping\n",
    "earlystopping = callbacks.EarlyStopping(patience=20, \n",
    "                                        monitor='val_accuracy', \n",
    "                                        verbose=0)\n",
    "# set the tensorboard to visualize\n",
    "tensorboard = callbacks.TensorBoard(log_dir=os.path.join(log_dir, config), \n",
    "                                    histogram_freq=2)\n",
    "# set the learning rate decay\n",
    "decay = callbacks.ReduceLROnPlateau(monitor='val_accuracy', \n",
    "                                    factor=0.6, \n",
    "                                    patience=10, \n",
    "                                    min_lr=1e-6, \n",
    "                                    verbose=0)\n",
    "# set the way of saving a model\n",
    "save = callbacks.ModelCheckpoint(filepath=os.path.join(checkpoint_dir, config, \"model.h5\"),\n",
    "                                 save_best_only=True, \n",
    "                                 monitor='val_accuracy', \n",
    "                                 verbose=0)\n",
    "\n",
    "callback = [history, earlystopping, tensorboard, decay, save]"
   ]
  },
  {
   "cell_type": "markdown",
   "metadata": {
    "colab_type": "text",
    "id": "Ox2w52MFJfos"
   },
   "source": [
    "#### Initialize and train the mode"
   ]
  },
  {
   "cell_type": "code",
   "execution_count": 24,
   "metadata": {
    "colab": {
     "base_uri": "https://localhost:8080/",
     "height": 629
    },
    "colab_type": "code",
    "id": "vF7h3EQy_5KF",
    "outputId": "a77c227a-c0a3-4a39-edc7-f035a1c21c28"
   },
   "outputs": [
    {
     "name": "stdout",
     "output_type": "stream",
     "text": [
      "Model: \"attention56_1\"\n",
      "_________________________________________________________________\n",
      "Layer (type)                 Output Shape              Param #   \n",
      "=================================================================\n",
      "conv2d_86 (Conv2D)           multiple                  304       \n",
      "_________________________________________________________________\n",
      "residual_unit_between_2 (Res multiple                  360       \n",
      "_________________________________________________________________\n",
      "attention_module_3 (Attentio multiple                  38496     \n",
      "_________________________________________________________________\n",
      "residual_unit_between_3 (Res multiple                  6240      \n",
      "_________________________________________________________________\n",
      "attention_module_4 (Attentio multiple                  382208    \n",
      "_________________________________________________________________\n",
      "residual_unit_34 (ResidualUn multiple                  14368     \n",
      "_________________________________________________________________\n",
      "attention_module_5 (Attentio multiple                  1950208   \n",
      "_________________________________________________________________\n",
      "residual_unit_39 (ResidualUn multiple                  220288    \n",
      "_________________________________________________________________\n",
      "batch_normalization_141 (Bat multiple                  1024      \n",
      "_________________________________________________________________\n",
      "average_pooling2d_1 (Average multiple                  0         \n",
      "_________________________________________________________________\n",
      "flatten_1 (Flatten)          multiple                  0         \n",
      "_________________________________________________________________\n",
      "dense_3 (Dense)              multiple                  65792     \n",
      "_________________________________________________________________\n",
      "dense_4 (Dense)              multiple                  16448     \n",
      "_________________________________________________________________\n",
      "dense_5 (Dense)              multiple                  650       \n",
      "=================================================================\n",
      "Total params: 2,696,386\n",
      "Trainable params: 2,684,178\n",
      "Non-trainable params: 12,208\n",
      "_________________________________________________________________\n"
     ]
    }
   ],
   "source": [
    "model = Attention56(config)\n",
    "model.compile(optimizer=optimizer, loss=loss, metrics=['accuracy'])\n",
    "if RESTORE:\n",
    "  model.load_weights(os.path.join(checkpoint_dir, RESTORE, \"ckpt\"))\n",
    "model.build((None, 32, 32, 3))\n",
    "model.summary()"
   ]
  },
  {
   "cell_type": "code",
   "execution_count": 25,
   "metadata": {
    "colab": {
     "base_uri": "https://localhost:8080/",
     "height": 1000
    },
    "colab_type": "code",
    "id": "5NzFwlvqrPAr",
    "outputId": "4163f434-9486-45df-d31b-9d95c8cce395"
   },
   "outputs": [
    {
     "name": "stdout",
     "output_type": "stream",
     "text": [
      "Epoch 1/300\n",
      "391/391 [==============================] - 45s 115ms/step - loss: 2.1338 - accuracy: 0.3097 - val_loss: 0.0000e+00 - val_accuracy: 0.0000e+00\n",
      "Epoch 2/300\n",
      "391/391 [==============================] - 32s 82ms/step - loss: 1.7314 - accuracy: 0.4176 - val_loss: 1.7717 - val_accuracy: 0.3866\n",
      "Epoch 3/300\n",
      "391/391 [==============================] - 32s 82ms/step - loss: 1.5379 - accuracy: 0.4717 - val_loss: 1.5688 - val_accuracy: 0.4565\n",
      "Epoch 4/300\n",
      "391/391 [==============================] - 31s 80ms/step - loss: 1.4188 - accuracy: 0.5068 - val_loss: 1.5033 - val_accuracy: 0.4741\n",
      "Epoch 5/300\n",
      "391/391 [==============================] - 32s 83ms/step - loss: 1.3236 - accuracy: 0.5378 - val_loss: 1.3955 - val_accuracy: 0.5089\n",
      "Epoch 6/300\n",
      "391/391 [==============================] - 32s 82ms/step - loss: 1.2480 - accuracy: 0.5633 - val_loss: 1.3827 - val_accuracy: 0.5233\n",
      "Epoch 7/300\n",
      "391/391 [==============================] - 32s 83ms/step - loss: 1.1868 - accuracy: 0.5853 - val_loss: 1.1908 - val_accuracy: 0.5881\n",
      "Epoch 8/300\n",
      "391/391 [==============================] - 31s 79ms/step - loss: 1.1247 - accuracy: 0.6090 - val_loss: 1.1990 - val_accuracy: 0.5843\n",
      "Epoch 9/300\n",
      "391/391 [==============================] - 32s 83ms/step - loss: 1.0736 - accuracy: 0.6238 - val_loss: 1.1596 - val_accuracy: 0.5994\n",
      "Epoch 10/300\n",
      "391/391 [==============================] - 31s 79ms/step - loss: 1.0325 - accuracy: 0.6406 - val_loss: 1.1895 - val_accuracy: 0.5932\n",
      "Epoch 11/300\n",
      "391/391 [==============================] - 32s 82ms/step - loss: 0.9984 - accuracy: 0.6561 - val_loss: 1.1267 - val_accuracy: 0.6144\n",
      "Epoch 12/300\n",
      "391/391 [==============================] - 31s 79ms/step - loss: 0.9629 - accuracy: 0.6676 - val_loss: 1.1291 - val_accuracy: 0.6187\n",
      "Epoch 13/300\n",
      "391/391 [==============================] - 32s 83ms/step - loss: 0.9302 - accuracy: 0.6791 - val_loss: 1.0330 - val_accuracy: 0.6447\n",
      "Epoch 14/300\n",
      "391/391 [==============================] - 32s 81ms/step - loss: 0.8992 - accuracy: 0.6914 - val_loss: 1.0311 - val_accuracy: 0.6483\n",
      "Epoch 15/300\n",
      "391/391 [==============================] - 31s 80ms/step - loss: 0.8715 - accuracy: 0.7002 - val_loss: 1.0373 - val_accuracy: 0.6371\n",
      "Epoch 16/300\n",
      "391/391 [==============================] - 31s 79ms/step - loss: 0.8430 - accuracy: 0.7151 - val_loss: 1.0383 - val_accuracy: 0.6481\n",
      "Epoch 17/300\n",
      "391/391 [==============================] - 32s 82ms/step - loss: 0.8169 - accuracy: 0.7219 - val_loss: 0.9704 - val_accuracy: 0.6751\n",
      "Epoch 18/300\n",
      "391/391 [==============================] - 31s 79ms/step - loss: 0.7886 - accuracy: 0.7313 - val_loss: 0.9788 - val_accuracy: 0.6689\n",
      "Epoch 19/300\n",
      "391/391 [==============================] - 32s 82ms/step - loss: 0.7681 - accuracy: 0.7392 - val_loss: 0.9313 - val_accuracy: 0.6876\n",
      "Epoch 20/300\n",
      "391/391 [==============================] - 30s 78ms/step - loss: 0.7404 - accuracy: 0.7496 - val_loss: 1.0131 - val_accuracy: 0.6720\n",
      "Epoch 21/300\n",
      "391/391 [==============================] - 31s 79ms/step - loss: 0.7288 - accuracy: 0.7526 - val_loss: 0.9405 - val_accuracy: 0.6905\n",
      "Epoch 22/300\n",
      "391/391 [==============================] - 31s 78ms/step - loss: 0.7048 - accuracy: 0.7618 - val_loss: 0.9345 - val_accuracy: 0.6948\n",
      "Epoch 23/300\n",
      "391/391 [==============================] - 31s 80ms/step - loss: 0.6871 - accuracy: 0.7675 - val_loss: 1.0014 - val_accuracy: 0.6726\n",
      "Epoch 24/300\n",
      "391/391 [==============================] - 32s 81ms/step - loss: 0.6644 - accuracy: 0.7766 - val_loss: 0.9012 - val_accuracy: 0.7031\n",
      "Epoch 25/300\n",
      "391/391 [==============================] - 32s 82ms/step - loss: 0.6532 - accuracy: 0.7797 - val_loss: 0.8788 - val_accuracy: 0.7118\n",
      "Epoch 26/300\n",
      "391/391 [==============================] - 30s 77ms/step - loss: 0.6390 - accuracy: 0.7848 - val_loss: 0.9229 - val_accuracy: 0.7000\n",
      "Epoch 27/300\n",
      "391/391 [==============================] - 31s 79ms/step - loss: 0.6253 - accuracy: 0.7899 - val_loss: 0.8821 - val_accuracy: 0.7063\n",
      "Epoch 28/300\n",
      "391/391 [==============================] - 31s 81ms/step - loss: 0.6032 - accuracy: 0.7989 - val_loss: 0.8283 - val_accuracy: 0.7271\n",
      "Epoch 29/300\n",
      "391/391 [==============================] - 31s 79ms/step - loss: 0.5892 - accuracy: 0.8029 - val_loss: 0.9467 - val_accuracy: 0.7106\n",
      "Epoch 30/300\n",
      "391/391 [==============================] - 31s 80ms/step - loss: 0.5794 - accuracy: 0.8086 - val_loss: 0.8232 - val_accuracy: 0.7296\n",
      "Epoch 31/300\n",
      "391/391 [==============================] - 31s 78ms/step - loss: 0.5722 - accuracy: 0.8092 - val_loss: 0.8342 - val_accuracy: 0.7301\n",
      "Epoch 32/300\n",
      "391/391 [==============================] - 31s 78ms/step - loss: 0.5562 - accuracy: 0.8141 - val_loss: 0.8771 - val_accuracy: 0.7169\n",
      "Epoch 33/300\n",
      "391/391 [==============================] - 31s 78ms/step - loss: 0.5415 - accuracy: 0.8184 - val_loss: 0.9039 - val_accuracy: 0.7138\n",
      "Epoch 34/300\n",
      "391/391 [==============================] - 31s 80ms/step - loss: 0.5318 - accuracy: 0.8244 - val_loss: 0.7910 - val_accuracy: 0.7476\n",
      "Epoch 35/300\n",
      "391/391 [==============================] - 31s 79ms/step - loss: 0.5259 - accuracy: 0.8253 - val_loss: 0.8591 - val_accuracy: 0.7228\n",
      "Epoch 36/300\n",
      "391/391 [==============================] - 31s 78ms/step - loss: 0.5149 - accuracy: 0.8287 - val_loss: 0.8715 - val_accuracy: 0.7209\n",
      "Epoch 37/300\n",
      "391/391 [==============================] - 31s 79ms/step - loss: 0.4934 - accuracy: 0.8359 - val_loss: 0.8349 - val_accuracy: 0.7327\n",
      "Epoch 38/300\n",
      "391/391 [==============================] - 30s 77ms/step - loss: 0.4941 - accuracy: 0.8363 - val_loss: 0.8225 - val_accuracy: 0.7389\n",
      "Epoch 39/300\n",
      "391/391 [==============================] - 31s 79ms/step - loss: 0.4787 - accuracy: 0.8432 - val_loss: 0.8347 - val_accuracy: 0.7314\n",
      "Epoch 40/300\n",
      "391/391 [==============================] - 30s 78ms/step - loss: 0.4701 - accuracy: 0.8460 - val_loss: 0.8623 - val_accuracy: 0.7322\n",
      "Epoch 41/300\n",
      "391/391 [==============================] - 31s 79ms/step - loss: 0.4618 - accuracy: 0.8470 - val_loss: 0.8225 - val_accuracy: 0.7421\n",
      "Epoch 42/300\n",
      "391/391 [==============================] - 31s 80ms/step - loss: 0.4560 - accuracy: 0.8502 - val_loss: 0.8279 - val_accuracy: 0.7402\n",
      "Epoch 43/300\n",
      "391/391 [==============================] - 32s 81ms/step - loss: 0.4473 - accuracy: 0.8521 - val_loss: 0.8152 - val_accuracy: 0.7525\n",
      "Epoch 44/300\n",
      "391/391 [==============================] - 31s 78ms/step - loss: 0.4326 - accuracy: 0.8564 - val_loss: 0.8266 - val_accuracy: 0.7478\n",
      "Epoch 45/300\n",
      "391/391 [==============================] - 32s 82ms/step - loss: 0.3389 - accuracy: 0.8945 - val_loss: 0.7552 - val_accuracy: 0.7730\n",
      "Epoch 46/300\n",
      "391/391 [==============================] - 31s 80ms/step - loss: 0.2862 - accuracy: 0.9134 - val_loss: 0.7711 - val_accuracy: 0.7772\n",
      "Epoch 47/300\n",
      "391/391 [==============================] - 31s 80ms/step - loss: 0.2631 - accuracy: 0.9228 - val_loss: 0.7873 - val_accuracy: 0.7750\n",
      "Epoch 48/300\n",
      "391/391 [==============================] - 31s 79ms/step - loss: 0.2442 - accuracy: 0.9294 - val_loss: 0.8147 - val_accuracy: 0.7723\n",
      "Epoch 49/300\n",
      "391/391 [==============================] - 31s 80ms/step - loss: 0.2277 - accuracy: 0.9363 - val_loss: 0.8478 - val_accuracy: 0.7717\n",
      "Epoch 50/300\n",
      "391/391 [==============================] - 31s 80ms/step - loss: 0.2155 - accuracy: 0.9401 - val_loss: 0.8624 - val_accuracy: 0.7709\n",
      "Epoch 51/300\n",
      "391/391 [==============================] - 32s 83ms/step - loss: 0.2034 - accuracy: 0.9446 - val_loss: 0.8764 - val_accuracy: 0.7737\n",
      "Epoch 52/300\n",
      "391/391 [==============================] - 31s 80ms/step - loss: 0.1925 - accuracy: 0.9471 - val_loss: 0.8997 - val_accuracy: 0.7736\n",
      "Epoch 53/300\n",
      "391/391 [==============================] - 32s 83ms/step - loss: 0.1799 - accuracy: 0.9519 - val_loss: 0.9146 - val_accuracy: 0.7718\n",
      "Epoch 54/300\n",
      "391/391 [==============================] - 31s 79ms/step - loss: 0.1733 - accuracy: 0.9556 - val_loss: 0.9364 - val_accuracy: 0.7727\n",
      "Epoch 55/300\n",
      "391/391 [==============================] - 31s 80ms/step - loss: 0.1610 - accuracy: 0.9590 - val_loss: 0.9569 - val_accuracy: 0.7713\n",
      "Epoch 56/300\n",
      "391/391 [==============================] - 31s 79ms/step - loss: 0.1423 - accuracy: 0.9658 - val_loss: 0.9474 - val_accuracy: 0.7747\n",
      "Epoch 57/300\n",
      "391/391 [==============================] - 31s 80ms/step - loss: 0.1308 - accuracy: 0.9710 - val_loss: 0.9554 - val_accuracy: 0.7745\n",
      "Epoch 58/300\n",
      "391/391 [==============================] - 30s 78ms/step - loss: 0.1281 - accuracy: 0.9724 - val_loss: 0.9711 - val_accuracy: 0.7740\n",
      "Epoch 59/300\n",
      "391/391 [==============================] - 31s 79ms/step - loss: 0.1269 - accuracy: 0.9719 - val_loss: 0.9807 - val_accuracy: 0.7755\n",
      "Epoch 60/300\n",
      "391/391 [==============================] - 31s 78ms/step - loss: 0.1182 - accuracy: 0.9761 - val_loss: 0.9906 - val_accuracy: 0.7737\n",
      "Epoch 61/300\n",
      "391/391 [==============================] - 31s 79ms/step - loss: 0.1166 - accuracy: 0.9764 - val_loss: 1.0060 - val_accuracy: 0.7751\n",
      "Epoch 62/300\n",
      "391/391 [==============================] - 30s 78ms/step - loss: 0.1125 - accuracy: 0.9772 - val_loss: 1.0172 - val_accuracy: 0.7764\n",
      "Epoch 63/300\n",
      "391/391 [==============================] - 31s 79ms/step - loss: 0.1087 - accuracy: 0.9791 - val_loss: 1.0284 - val_accuracy: 0.7744\n",
      "Epoch 64/300\n",
      "391/391 [==============================] - 30s 78ms/step - loss: 0.1065 - accuracy: 0.9793 - val_loss: 1.0451 - val_accuracy: 0.7765\n",
      "Epoch 65/300\n",
      "391/391 [==============================] - 31s 79ms/step - loss: 0.1046 - accuracy: 0.9812 - val_loss: 1.0534 - val_accuracy: 0.7743\n"
     ]
    },
    {
     "data": {
      "text/plain": [
       "<tensorflow.python.keras.callbacks.History at 0x7fbb506ffd30>"
      ]
     },
     "execution_count": 25,
     "metadata": {
      "tags": []
     },
     "output_type": "execute_result"
    }
   ],
   "source": [
    "model.fit(train_db.batch(BATCH),\n",
    "          epochs=EPOCH, \n",
    "          validation_freq=VALID,\n",
    "          validation_data=val_db.batch(BATCH*5), \n",
    "          callbacks=callback)"
   ]
  },
  {
   "cell_type": "code",
   "execution_count": null,
   "metadata": {
    "colab": {},
    "colab_type": "code",
    "id": "etJaFkt3jVVa"
   },
   "outputs": [],
   "source": [
    "# save the training history\n",
    "with open(os.path.join(image_dir, config, 'history.pkl'),\"wb\") as writer:\n",
    "    pickle.dump(history.history, writer)"
   ]
  },
  {
   "cell_type": "markdown",
   "metadata": {},
   "source": [
    "### Visualization"
   ]
  },
  {
   "cell_type": "markdown",
   "metadata": {},
   "source": [
    "#### Tensorboard\n",
    "![title](outputs/images/RAN56-CIFAR10-20191214-041151/tensorboard.png)"
   ]
  },
  {
   "cell_type": "code",
   "execution_count": 44,
   "metadata": {
    "colab": {
     "base_uri": "https://localhost:8080/",
     "height": 295
    },
    "colab_type": "code",
    "id": "jUfu4e5rhIhD",
    "outputId": "b646524e-40fc-4a22-a897-fb0c48229d30"
   },
   "outputs": [
    {
     "data": {
      "image/png": "[encoded data removed]",
      "text/plain": [
       "<Figure size 432x288 with 1 Axes>"
      ]
     },
     "metadata": {
      "tags": []
     },
     "output_type": "display_data"
    }
   ],
   "source": [
    "data = history.history\n",
    "fig, ax = plt.subplots()\n",
    "ax.plot(data['accuracy'], label='training')\n",
    "ax.plot(data['val_accuracy'], label='validation')\n",
    "ax.set_xlabel('epoch')\n",
    "ax.set_ylabel('accuracy')\n",
    "ax.set_title('accuracy')\n",
    "ax.legend()\n",
    "fig.savefig(os.path.join(image_dir, config,'accuracy.png'))"
   ]
  },
  {
   "cell_type": "code",
   "execution_count": 43,
   "metadata": {
    "colab": {
     "base_uri": "https://localhost:8080/",
     "height": 295
    },
    "colab_type": "code",
    "id": "qzmAKzUhhJVN",
    "outputId": "7f6355c2-8c7d-4d34-eb2d-a0a734515136"
   },
   "outputs": [
    {
     "data": {
      "image/png": "[encoded data removed]",
      "text/plain": [
       "<Figure size 432x288 with 1 Axes>"
      ]
     },
     "metadata": {
      "tags": []
     },
     "output_type": "display_data"
    }
   ],
   "source": [
    "fig, ax = plt.subplots()\n",
    "ax.plot(data['loss'], label='training')\n",
    "ax.plot(data['val_loss'], label='validation')\n",
    "ax.set_xlabel('epoch')\n",
    "ax.set_ylabel('loss')\n",
    "ax.set_title('loss')\n",
    "ax.legend()\n",
    "fig.savefig(os.path.join(image_dir, config,'loss.png'))"
   ]
  }
 ],
 "metadata": {
  "accelerator": "GPU",
  "colab": {
   "collapsed_sections": [],
   "name": "residual-attention-colab.ipynb",
   "provenance": [],
   "toc_visible": true
  },
  "kernelspec": {
   "display_name": "Python 3.7",
   "language": "python",
   "name": "python3"
  },
  "language_info": {
   "codemirror_mode": {
    "name": "ipython",
    "version": 3
   },
   "file_extension": ".py",
   "mimetype": "text/x-python",
   "name": "python",
   "nbconvert_exporter": "python",
   "pygments_lexer": "ipython3",
   "version": "3.7.4"
  }
 },
 "nbformat": 4,
 "nbformat_minor": 4
}
